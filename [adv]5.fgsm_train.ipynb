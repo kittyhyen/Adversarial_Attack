{
 "cells": [
  {
   "cell_type": "code",
   "execution_count": 1,
   "metadata": {
    "collapsed": true,
    "pycharm": {
     "is_executing": false
    }
   },
   "outputs": [],
   "source": [
    "import torch\n",
    "import torchvision\n",
    "from lib.fcn import FCN\n",
    "from lib.attack import FGSMAttack"
   ]
  },
  {
   "cell_type": "code",
   "execution_count": 2,
   "outputs": [],
   "source": [
    "gpu_name = \"cuda:0\"\n",
    "device = torch.device(gpu_name if torch.cuda.is_available() else \"cpu\")"
   ],
   "metadata": {
    "collapsed": false,
    "pycharm": {
     "name": "#%%\n",
     "is_executing": false
    }
   }
  },
  {
   "cell_type": "code",
   "execution_count": 3,
   "outputs": [],
   "source": [
    "transform = torchvision.transforms.Compose([\n",
    "        torchvision.transforms.ToTensor()\n",
    "])\n",
    "_train = torchvision.datasets.MNIST(root='data/mnist', train=True,\n",
    "                                    download=True, transform=transform)\n",
    "train = torch.utils.data.DataLoader(_train, batch_size=32,\n",
    "                                    shuffle=True, num_workers=2)\n",
    "\n",
    "_test = torchvision.datasets.MNIST(root='data/mnist', train=True,\n",
    "                                   download=True, transform=transform)\n",
    "test = torch.utils.data.DataLoader(_test, batch_size=32,\n",
    "                                   shuffle=False, num_workers=2)"
   ],
   "metadata": {
    "collapsed": false,
    "pycharm": {
     "name": "#%%\n",
     "is_executing": false
    }
   }
  },
  {
   "cell_type": "code",
   "execution_count": 4,
   "outputs": [],
   "source": [
    "model = FCN()\n",
    "model = model.to(device)\n",
    "criterion = torch.nn.CrossEntropyLoss()\n",
    "optimizer = torch.optim.Adam(model.parameters())"
   ],
   "metadata": {
    "collapsed": false,
    "pycharm": {
     "name": "#%%\n",
     "is_executing": false
    }
   }
  },
  {
   "cell_type": "code",
   "execution_count": 5,
   "outputs": [],
   "source": [
    "fgsm = FGSMAttack(model, criterion=criterion, epsilon=0.3)\n",
    "for epoch in range(5):\n",
    "    # train model\n",
    "    model.train()\n",
    "    for data in train:\n",
    "        inputs, labels = data\n",
    "        inputs, labels = inputs.to(device), labels.to(device)\n",
    "        adv_inputs = fgsm.generate(inputs)\n",
    "        \n",
    "        outputs = model(inputs)\n",
    "        adv_outputs = model(adv_inputs)\n",
    "        loss = criterion(outputs, labels) + criterion(adv_outputs, labels)\n",
    "        \n",
    "        optimizer.zero_grad()\n",
    "        loss.backward()\n",
    "        optimizer.step()\n",
    "        \n",
    "    # eval model\n",
    "    model.eval()\n",
    "    total = 0\n",
    "    correct = 0\n",
    "    adv_correct = 0\n",
    "    for data in test:\n",
    "        inputs, labels = data\n",
    "        inputs, labels = inputs.to(device), labels.to(device)\n",
    "        adv_inputs = fgsm.generate(inputs)\n",
    "                \n",
    "        prediction = model(inputs).max(1)[1]\n",
    "        adv_prediction = model(adv_inputs).max(1)[1]\n",
    "                \n",
    "        total += labels.size(0)\n",
    "        correct += prediction.eq(labels).sum().item()\n",
    "        adv_correct += adv_prediction.eq(labels).sum().item()\n",
    "\n",
    "    test_acc = 100*correct/total\n",
    "    adv_test_acc = 100*adv_correct/total\n",
    "    \n",
    "    print(\"[Epoch:%2d] Test: %.2f%%     AdvTest: %.2f%%\"%(epoch+1,test_acc,adv_test_acc))\n",
    "    "
   ],
   "metadata": {
    "collapsed": false,
    "pycharm": {
     "name": "#%%\n",
     "is_executing": false
    }
   }
  },
  {
   "cell_type": "code",
   "execution_count": 6,
   "outputs": [],
   "source": [
    "import os\n",
    "if not os.path.isdir(\"model\"):\n",
    "    os.makedirs(\"model\")\n",
    "torch.save(model.state_dict(), \"model/FCN_MNIST_ADT\")"
   ],
   "metadata": {
    "collapsed": false,
    "pycharm": {
     "name": "#%%\n",
     "is_executing": false
    }
   }
  }
 ],
 "metadata": {
  "kernelspec": {
   "display_name": "Python 3",
   "language": "python",
   "name": "python3"
  },
  "language_info": {
   "codemirror_mode": {
    "name": "ipython",
    "version": 2
   },
   "file_extension": ".py",
   "mimetype": "text/x-python",
   "name": "python",
   "nbconvert_exporter": "python",
   "pygments_lexer": "ipython2",
   "version": "2.7.6"
  },
  "pycharm": {
   "stem_cell": {
    "cell_type": "raw",
    "source": [],
    "metadata": {
     "collapsed": false
    }
   }
  }
 },
 "nbformat": 4,
 "nbformat_minor": 0
}