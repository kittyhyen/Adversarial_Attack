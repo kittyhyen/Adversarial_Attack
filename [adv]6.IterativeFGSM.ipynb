{
 "cells": [
  {
   "cell_type": "code",
   "execution_count": 8,
   "metadata": {
    "collapsed": true,
    "pycharm": {
     "is_executing": false
    }
   },
   "outputs": [],
   "source": [
    "import matplotlib.pyplot as plt\n",
    "import numpy as np\n",
    "import torch\n",
    "import torchvision\n",
    "from lib.fcn import FCN\n",
    "from lib.attack import IterativeFGSMAttack"
   ]
  },
  {
   "cell_type": "code",
   "execution_count": 9,
   "outputs": [],
   "source": [
    "gpu_name = \"cuda:0\"\n",
    "device = torch.device(\"cuda:0\" if torch.cuda.is_available() else \"cpu\")"
   ],
   "metadata": {
    "collapsed": false,
    "pycharm": {
     "name": "#%%\n",
     "is_executing": false
    }
   }
  },
  {
   "cell_type": "code",
   "execution_count": 10,
   "outputs": [],
   "source": [
    "path = \"model/FCN_MNIST\"\n",
    "model = FCN()\n",
    "model.load_state_dict(torch.load(path, map_location=gpu_name))\n",
    "model = model.to(device)"
   ],
   "metadata": {
    "collapsed": false,
    "pycharm": {
     "name": "#%%\n",
     "is_executing": false
    }
   }
  },
  {
   "cell_type": "code",
   "execution_count": 11,
   "outputs": [],
   "source": [
    "transform = torchvision.transforms.Compose([\n",
    "        torchvision.transforms.ToTensor()\n",
    "])\n",
    "_test = torchvision.datasets.MNIST(root='data/mnist', train=False,\n",
    "                                   download=True, transform=transform)\n",
    "test = torch.utils.data.DataLoader(_test, batch_size=32,\n",
    "                                   shuffle=False, num_workers=2)"
   ],
   "metadata": {
    "collapsed": false,
    "pycharm": {
     "name": "#%%\n",
     "is_executing": false
    }
   }
  },
  {
   "cell_type": "code",
   "execution_count": 12,
   "outputs": [],
   "source": [
    "total = 0\n",
    "correct = 0\n",
    "adv_correct = 0\n",
    "\n",
    "fgsm = IterativeFGSMAttack(model, criterion=torch.nn.CrossEntropyLoss(),\n",
    "                           num_steps=0.01,\n",
    "                           step_size=40,\n",
    "                           epsilon=0.3)\n",
    "        \n",
    "for data in test:\n",
    "    inputs, labels = data\n",
    "    inputs, labels = inputs.to(device), labels.to(device)\n",
    "    adv_inputs = fgsm.generate(inputs)\n",
    "            \n",
    "    outputs = model(inputs)\n",
    "    adv_outputs = model(adv_inputs)\n",
    "            \n",
    "    prediction = outputs.max(1)[1]\n",
    "    adv_prediction = adv_outputs.max(1)[1]\n",
    "            \n",
    "    total += labels.size(0)\n",
    "    correct += prediction.eq(labels).sum().item()\n",
    "    adv_correct += adv_prediction.eq(labels).sum().item()\n",
    "\n",
    "    test_acc = 100*correct/total\n",
    "    adv_acc = 100*adv_correct/total\n",
    "\n",
    "print(\"Test: %.2f%%     Adv: %.2f%%\"%(test_acc, adv_acc))"
   ],
   "metadata": {
    "collapsed": false,
    "pycharm": {
     "name": "#%%\n",
     "is_executing": false
    }
   }
  },
  {
   "cell_type": "code",
   "execution_count": 13,
   "outputs": [],
   "source": [
    "inputs = np.squeeze(inputs.detach().cpu().numpy())\n",
    "adv_inputs = np.squeeze(adv_inputs.detach().cpu().numpy())"
   ],
   "metadata": {
    "collapsed": false,
    "pycharm": {
     "name": "#%%\n",
     "is_executing": false
    }
   }
  },
  {
   "cell_type": "code",
   "execution_count": 14,
   "outputs": [],
   "source": [
    "idx = 0\n",
    "f, axs = plt.subplots(1,2,figsize=(10,4))\n",
    "axs[0].set_xlabel('pure')\n",
    "axs[0].imshow(inputs[idx])\n",
    "axs[1].set_xlabel('adv')\n",
    "axs[1].imshow(adv_inputs[idx])"
   ],
   "metadata": {
    "collapsed": false,
    "pycharm": {
     "name": "#%%\n",
     "is_executing": false
    }
   }
  }
 ],
 "metadata": {
  "kernelspec": {
   "display_name": "Python 3",
   "language": "python",
   "name": "python3"
  },
  "language_info": {
   "codemirror_mode": {
    "name": "ipython",
    "version": 2
   },
   "file_extension": ".py",
   "mimetype": "text/x-python",
   "name": "python",
   "nbconvert_exporter": "python",
   "pygments_lexer": "ipython2",
   "version": "2.7.6"
  },
  "pycharm": {
   "stem_cell": {
    "cell_type": "raw",
    "source": [],
    "metadata": {
     "collapsed": false
    }
   }
  }
 },
 "nbformat": 4,
 "nbformat_minor": 0
}